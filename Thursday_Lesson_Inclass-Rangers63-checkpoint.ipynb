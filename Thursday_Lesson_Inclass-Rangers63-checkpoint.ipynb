{
 "cells": [
  {
   "cell_type": "markdown",
   "metadata": {},
   "source": [
    "# Object-Oriented-Programming (OOP)"
   ]
  },
  {
   "cell_type": "markdown",
   "metadata": {},
   "source": [
    "## Tasks Today:\n",
    "\n",
    "   \n",
    "\n",
    "1) <b>Creating a Class (Initializing/Declaring)</b> <br>\n",
    "2) <b>Using a Class (Instantiating)</b> <br>\n",
    " &nbsp;&nbsp;&nbsp;&nbsp; a) Creating One Instance <br>\n",
    " &nbsp;&nbsp;&nbsp;&nbsp; b) Creating Multiple Instances <br>\n",
    " &nbsp;&nbsp;&nbsp;&nbsp; c) In-Class Exercise #1 - Create a Class 'Car' and instantiate three different makes of cars <br>\n",
    "3) <b>The \\__init\\__() Method</b> <br>\n",
    " &nbsp;&nbsp;&nbsp;&nbsp; a) The 'self' Attribute <br>\n",
    "4) <b>Class Attributes</b> <br>\n",
    " &nbsp;&nbsp;&nbsp;&nbsp; a) Initializing Attributes <br>\n",
    " &nbsp;&nbsp;&nbsp;&nbsp; b) Setting an Attribute Outside of the \\__init\\__() Method <br>\n",
    " &nbsp;&nbsp;&nbsp;&nbsp; c) Setting Defaults for Attributes <br>\n",
    " &nbsp;&nbsp;&nbsp;&nbsp; d) Accessing Class Attributes <br>\n",
    " &nbsp;&nbsp;&nbsp;&nbsp; e) Changing Class Attributes <br>\n",
    " &nbsp;&nbsp;&nbsp;&nbsp; f) In-Class Exercise #2 - Add a color and wheels attribute to your 'Car' class <br>\n",
    "5) <b>Class Methods</b> <br>\n",
    " &nbsp;&nbsp;&nbsp;&nbsp; a) Creating <br>\n",
    " &nbsp;&nbsp;&nbsp;&nbsp; b) Calling <br>\n",
    " &nbsp;&nbsp;&nbsp;&nbsp; c) Modifying an Attribute's Value Through a Method <br>\n",
    " &nbsp;&nbsp;&nbsp;&nbsp; d) Incrementing an Attribute's Value Through a Method <br>\n",
    " &nbsp;&nbsp;&nbsp;&nbsp; e) In-Class Exercise #3 - Add a method that prints the cars color and wheel number, then call them <br>\n",
    "6) <b>Inheritance</b> <br>\n",
    " &nbsp;&nbsp;&nbsp;&nbsp; a) Syntax for Inheriting from a Parent Class <br>\n",
    " &nbsp;&nbsp;&nbsp;&nbsp; b) The \\__init\\__() Method for a Child Class (super()) <br>\n",
    " &nbsp;&nbsp;&nbsp;&nbsp; c) Defining Attributes and Methods for the Child Class <br>\n",
    " &nbsp;&nbsp;&nbsp;&nbsp; d) Method Overriding <br>\n",
    " &nbsp;&nbsp;&nbsp;&nbsp; e) In-Class Exercise #4 - Create a class 'Ford' that inherits from 'Car' class and initialize it as a Blue Ford Explorer with 4 wheels using the super() method <br>\n",
    "7) <b>Classes as Attributes</b> <br>\n",
    "8) <b>Exercises</b> <br>\n",
    " &nbsp;&nbsp;&nbsp;&nbsp; a) Exercise #1 - Turn the shopping cart program from yesterday into an object-oriented program <br>"
   ]
  },
  {
   "cell_type": "markdown",
   "metadata": {},
   "source": [
    "## Creating a Class (Initializing/Declaring)\n",
    "<p>When creating a class, function, or even a variable you are initializing that object. Initializing and Declaring occur at the same time in Python, whereas in lower level languages you have to declare an object before initializing it. This is the first step in the process of using a class.</p>"
   ]
  },
  {
   "cell_type": "code",
   "execution_count": 1,
   "metadata": {},
   "outputs": [],
   "source": [
    "# Class names should always be capitalized\n",
    "# () are optional\n",
    "class Car():\n",
    "    wheels = 4\n",
    "    color = 'blue'"
   ]
  },
  {
   "cell_type": "code",
   "execution_count": 7,
   "metadata": {},
   "outputs": [],
   "source": [
    "class Agent:\n",
    "    name = 'Smith'\n",
    "    glasses = 'black'"
   ]
  },
  {
   "cell_type": "markdown",
   "metadata": {},
   "source": [
    "## Using a Class (Instantiating)\n",
    "<p>The process of creating a class is called <i>Instantiating</i>. Each time you create a variable of that type of class, it is referred to as an <i>Instance</i> of that class. This is the second step in the process of using a class.</p>"
   ]
  },
  {
   "cell_type": "markdown",
   "metadata": {},
   "source": [
    "##### Creating One Instance"
   ]
  },
  {
   "cell_type": "code",
   "execution_count": 2,
   "metadata": {},
   "outputs": [
    {
     "name": "stdout",
     "output_type": "stream",
     "text": [
      "<__main__.Car object at 0x0000027A23B3A820>\n"
     ]
    }
   ],
   "source": [
    "ford = Car()\n",
    "print(ford)"
   ]
  },
  {
   "cell_type": "code",
   "execution_count": 8,
   "metadata": {},
   "outputs": [],
   "source": [
    "new_agent = Agent()"
   ]
  },
  {
   "cell_type": "markdown",
   "metadata": {},
   "source": [
    "##### Creating Multiple Instances"
   ]
  },
  {
   "cell_type": "code",
   "execution_count": 17,
   "metadata": {},
   "outputs": [
    {
     "name": "stdout",
     "output_type": "stream",
     "text": [
      "white after change\n"
     ]
    }
   ],
   "source": [
    "#Creating multiple instances\n",
    "chevy = Car()\n",
    "honda = Car()\n",
    "volvo = Car()\n",
    "\n",
    "#Outputting class attributes\n",
    "honda.wheels\n",
    "chevy.wheels\n",
    "volvo.color\n",
    "\n",
    "# Attribute error\n",
    "# volvo.engine\n",
    "\n",
    "#Declaring a new value\n",
    "volvo.color = 'white'\n",
    "print(volvo.color, 'after change')"
   ]
  },
  {
   "cell_type": "code",
   "execution_count": 9,
   "metadata": {},
   "outputs": [
    {
     "data": {
      "text/plain": [
       "'Smith'"
      ]
     },
     "execution_count": 9,
     "metadata": {},
     "output_type": "execute_result"
    }
   ],
   "source": [
    "agent_1 = Agent()\n",
    "agent_2 = Agent()\n",
    "agent_3 = Agent()\n",
    "\n",
    "agent_2.name"
   ]
  },
  {
   "cell_type": "markdown",
   "metadata": {},
   "source": [
    "##### In-Class Exercise #1 - Create a Class 'Car' and Instantiate three different makes of cars"
   ]
  },
  {
   "cell_type": "code",
   "execution_count": 15,
   "metadata": {},
   "outputs": [
    {
     "name": "stdout",
     "output_type": "stream",
     "text": [
      "extended cab\n",
      "['extended cab', 'tow package']\n",
      "4\n",
      "4-wheel drive\n"
     ]
    }
   ],
   "source": [
    "class Truck:\n",
    "    wheels = 4\n",
    "    steering = '4-wheel drive'\n",
    "    features = ['extended cab', 'tow package']\n",
    "    \n",
    "ranger = Truck()\n",
    "tacoma = Truck()\n",
    "ram = Truck()\n",
    "\n",
    "print(ranger.features[0])\n",
    "print(ranger.features)\n",
    "print(tacoma.wheels)\n",
    "print(ram.steering)"
   ]
  },
  {
   "cell_type": "markdown",
   "metadata": {},
   "source": [
    "## The \\__init\\__() Method <br>\n",
    "<p>This method is used in almost every created class, and called only once upon the creation of the class instance. This method will initialize all variables needed for the object.</p>"
   ]
  },
  {
   "cell_type": "code",
   "execution_count": 24,
   "metadata": {},
   "outputs": [
    {
     "name": "stdout",
     "output_type": "stream",
     "text": [
      "4\n",
      "white\n",
      "honda\n",
      "White\n"
     ]
    }
   ],
   "source": [
    "class Car:\n",
    "    wheels = 4\n",
    "    \n",
    "    def __init__(self, make, model, color = 'black'):\n",
    "        self.color = color\n",
    "        self.make = make\n",
    "        self.model = model\n",
    "\n",
    "new_car = Car('white', 'honda', 'fit')\n",
    "print(new_car.wheels)\n",
    "print(new_car.make)\n",
    "print(new_car.model)\n",
    "\n",
    "car2 = Car('Chevy', 'Cruz', 'White')\n",
    "print(car2.color)"
   ]
  },
  {
   "cell_type": "code",
   "execution_count": 32,
   "metadata": {},
   "outputs": [
    {
     "data": {
      "text/plain": [
       "True"
      ]
     },
     "execution_count": 32,
     "metadata": {},
     "output_type": "execute_result"
    }
   ],
   "source": [
    "class Agent:\n",
    "    name = 'Smith'\n",
    "    \n",
    "    def __init__(self, person_overwritten, weapon):\n",
    "        self.p_overwritten = person_overwritten\n",
    "        self.weapon = weapon\n",
    "        self.in_matrix = True\n",
    "        \n",
    "new_agent = Agent('Bob', 'Desert Eagle')\n",
    "new_agent.p_overwritten\n",
    "new_agent.in_matrix\n",
    "\n"
   ]
  },
  {
   "cell_type": "markdown",
   "metadata": {},
   "source": [
    "##### The 'self' Attribute <br>\n",
    "<p>This attribute is required to keep track of specific instance's attributes. Without the self attribute, the program would not know how to reference or keep track of an instance's attributes.</p>"
   ]
  },
  {
   "cell_type": "code",
   "execution_count": null,
   "metadata": {},
   "outputs": [],
   "source": [
    "# see above"
   ]
  },
  {
   "cell_type": "markdown",
   "metadata": {},
   "source": [
    "## Class Attributes <br>\n",
    "<p>While variables are inside of a class, they are referred to as attributes and not variables. When someone says 'attribute' you know they're speaking about a class. Attributes can be initialized through the init method, or outside of it.</p>"
   ]
  },
  {
   "cell_type": "markdown",
   "metadata": {},
   "source": [
    "##### Initializing Attributes"
   ]
  },
  {
   "cell_type": "code",
   "execution_count": null,
   "metadata": {},
   "outputs": [],
   "source": [
    "# see above"
   ]
  },
  {
   "cell_type": "markdown",
   "metadata": {},
   "source": [
    "##### Accessing Class Attributes"
   ]
  },
  {
   "cell_type": "code",
   "execution_count": 31,
   "metadata": {
    "scrolled": true
   },
   "outputs": [
    {
     "data": {
      "text/plain": [
       "'Smith'"
      ]
     },
     "execution_count": 31,
     "metadata": {},
     "output_type": "execute_result"
    }
   ],
   "source": [
    "# See Above\n",
    "new_agent.name"
   ]
  },
  {
   "cell_type": "markdown",
   "metadata": {},
   "source": [
    "##### Setting Defaults for Attributes"
   ]
  },
  {
   "cell_type": "code",
   "execution_count": null,
   "metadata": {},
   "outputs": [],
   "source": [
    "#see above\n",
    "#2nd method\n"
   ]
  },
  {
   "cell_type": "markdown",
   "metadata": {},
   "source": [
    "##### Changing Class Attributes <br>\n",
    "<p>Keep in mind there are global class attributes and then there are attributes only available to each class instance which won't effect other classes.</p>"
   ]
  },
  {
   "cell_type": "code",
   "execution_count": 34,
   "metadata": {},
   "outputs": [
    {
     "name": "stdout",
     "output_type": "stream",
     "text": [
      "Brown\n",
      "Brown\n",
      "Bob before\n",
      "Bill after\n"
     ]
    }
   ],
   "source": [
    "print(new_agent.name)\n",
    "new_agent.name = \"Brown\"\n",
    "print(new_agent.name)\n",
    "\n",
    "print(new_agent.p_overwritten, 'before')\n",
    "new_agent.p_overwritten = 'Bill'\n",
    "print(new_agent.p_overwritten, 'after')"
   ]
  },
  {
   "cell_type": "code",
   "execution_count": 36,
   "metadata": {},
   "outputs": [
    {
     "data": {
      "text/plain": [
       "'Truck'"
      ]
     },
     "execution_count": 36,
     "metadata": {},
     "output_type": "execute_result"
    }
   ],
   "source": [
    "new_agent.car = 'Truck'\n",
    "new_agent.car"
   ]
  },
  {
   "cell_type": "markdown",
   "metadata": {},
   "source": [
    "##### In-Class Exercise #2 - Add a doors and seats attribute to your 'Car' class then print out two different instances with different doors and seats"
   ]
  },
  {
   "cell_type": "code",
   "execution_count": 39,
   "metadata": {},
   "outputs": [
    {
     "ename": "TypeError",
     "evalue": "__init__() got an unexpected keyword argument 'doors'",
     "output_type": "error",
     "traceback": [
      "\u001b[1;31m---------------------------------------------------------------------------\u001b[0m",
      "\u001b[1;31mTypeError\u001b[0m                                 Traceback (most recent call last)",
      "\u001b[1;32m~\\AppData\\Local\\Temp\\ipykernel_11636\\3913334502.py\u001b[0m in \u001b[0;36m<module>\u001b[1;34m\u001b[0m\n\u001b[1;32m----> 1\u001b[1;33m \u001b[0mCar\u001b[0m\u001b[1;33m.\u001b[0m\u001b[0m__init__\u001b[0m\u001b[1;33m(\u001b[0m\u001b[0mdoors\u001b[0m \u001b[1;33m=\u001b[0m \u001b[1;36m4\u001b[0m\u001b[1;33m)\u001b[0m\u001b[1;33m\u001b[0m\u001b[1;33m\u001b[0m\u001b[0m\n\u001b[0m\u001b[0;32m      2\u001b[0m \u001b[0mCar\u001b[0m\u001b[1;33m.\u001b[0m\u001b[0m__init__\u001b[0m\u001b[1;33m(\u001b[0m\u001b[0mseats\u001b[0m \u001b[1;33m=\u001b[0m \u001b[1;34m'cloth'\u001b[0m\u001b[1;33m)\u001b[0m\u001b[1;33m\u001b[0m\u001b[1;33m\u001b[0m\u001b[0m\n\u001b[0;32m      3\u001b[0m \u001b[1;33m\u001b[0m\u001b[0m\n\u001b[0;32m      4\u001b[0m \u001b[0mnew_car\u001b[0m \u001b[1;33m=\u001b[0m \u001b[0mCar\u001b[0m\u001b[1;33m(\u001b[0m\u001b[0mseats\u001b[0m \u001b[1;33m=\u001b[0m \u001b[1;34m'leather'\u001b[0m\u001b[1;33m)\u001b[0m\u001b[1;33m\u001b[0m\u001b[1;33m\u001b[0m\u001b[0m\n\u001b[0;32m      5\u001b[0m \u001b[0mnew_car\u001b[0m\u001b[1;33m.\u001b[0m\u001b[0mseats\u001b[0m\u001b[1;33m\u001b[0m\u001b[1;33m\u001b[0m\u001b[0m\n",
      "\u001b[1;31mTypeError\u001b[0m: __init__() got an unexpected keyword argument 'doors'"
     ]
    }
   ],
   "source": [
    "Car.__init__(doors = 4)\n",
    "Car.__init__(seats = 'cloth')\n",
    "\n",
    "new_car = Car(seats = 'leather')\n",
    "new_car.seats"
   ]
  },
  {
   "cell_type": "markdown",
   "metadata": {},
   "source": [
    "## Class Methods <br>\n",
    "<p>While inside of a class, functions are referred to as 'methods'. If you hear someone mention methods, they're speaking about classes. Methods are essentially functions, but only callable on the instances of a class.</p>"
   ]
  },
  {
   "cell_type": "markdown",
   "metadata": {},
   "source": [
    "##### Creating"
   ]
  },
  {
   "cell_type": "code",
   "execution_count": 41,
   "metadata": {},
   "outputs": [],
   "source": [
    "class Human_Matrix_Universe:\n",
    "    '''\n",
    "        A class with methods to wake up, get training, enter matrix, battle\n",
    "        agents, leave matrix, decide to stay\n",
    "        class attributes:\n",
    "            name, fighting_styles (list), awake\n",
    "    '''\n",
    "    def __init__(self, name, fighting_styles = [], awake = False):\n",
    "        self.name = name\n",
    "        self.fighting_styles = fighting_styles\n",
    "        self.awake = awake\n",
    "    \n",
    "    def pill_decision(self, pill):\n",
    "        #Updating a class attribute\n",
    "        if pill == 'red':\n",
    "            self.awake = True\n",
    "        else:\n",
    "            self.awake = False\n",
    "            print('Stays hooked to the machine')\n",
    "    \n",
    "    def get_training(self):\n",
    "        self.fighting_styles += ['kung fu', 'taekwando', 'aikido', 'drunken monk', 'wingchun']\n",
    "        print(f'\\n You know {self.fighting_styles}.')\n",
    "        \n",
    "#    Dynamically adjust class attribute\n",
    "    def specific_training(self, fighting_style):\n",
    "        self.fighting_styles.append(fighting_style)\n",
    "        print(f'\\nYou know {fighting_style}.')\n",
    "        \n",
    "    def enter_matrix(self):\n",
    "        print('\\nPlug in, Enter the Matrix')\n",
    "        self.location = 1\n",
    "    \n",
    "    def exit_matrix(self):\n",
    "        print('\\nPick up the Phone, Exit the Matrix')\n",
    "        self.location = 0\n",
    "    \n",
    "    def dodge_bullets(self):\n",
    "        if self.location:\n",
    "            print('Agents are coming, slow down time, do crazy backbends!')\n",
    "        else:\n",
    "            print(\"We can't slow down time outside the Matrix. Run!\")\n",
    "            "
   ]
  },
  {
   "cell_type": "markdown",
   "metadata": {},
   "source": [
    "##### Calling"
   ]
  },
  {
   "cell_type": "code",
   "execution_count": 43,
   "metadata": {},
   "outputs": [
    {
     "data": {
      "text/plain": [
       "'Neo'"
      ]
     },
     "execution_count": 43,
     "metadata": {},
     "output_type": "execute_result"
    }
   ],
   "source": [
    "# See Above\n",
    "neo = Human_Matrix_Universe('Neo')\n",
    "neo.name\n"
   ]
  },
  {
   "cell_type": "markdown",
   "metadata": {},
   "source": [
    "##### Modifying an Attribute's Value Through a Method"
   ]
  },
  {
   "cell_type": "code",
   "execution_count": null,
   "metadata": {},
   "outputs": [],
   "source": []
  },
  {
   "cell_type": "markdown",
   "metadata": {},
   "source": [
    "##### Incrementing an Attribute's Value Through a Method"
   ]
  },
  {
   "cell_type": "code",
   "execution_count": null,
   "metadata": {},
   "outputs": [],
   "source": []
  },
  {
   "cell_type": "markdown",
   "metadata": {},
   "source": [
    "##### In-Class Exercise #3 - Add a method that takes in three parameters of year, doors and seats and prints out a formatted print statement with make, model, year, seats, and doors"
   ]
  },
  {
   "cell_type": "code",
   "execution_count": null,
   "metadata": {},
   "outputs": [],
   "source": [
    "# Create class with 2 paramters inside of the __init__ which are make and model\n",
    "\n",
    "# Inside of the Car class create a method that has 4 parameter in total (self,year,door,seats)\n",
    "\n",
    "# Output: This car is from 2019 and is a Ford Expolorer and has 4 doors and 5 seats\n",
    "\n"
   ]
  },
  {
   "cell_type": "markdown",
   "metadata": {},
   "source": [
    "## Inheritance <br>\n",
    "<p>You can create a child-parent relationship between two classes by using inheritance. What this allows you to do is have overriding methods, but also inherit traits from the parent class. Think of it as an actual parent and child, the child will inherit the parent's genes, as will the classes in OOP</p>"
   ]
  },
  {
   "cell_type": "markdown",
   "metadata": {},
   "source": [
    "##### Syntax for Inheriting from a Parent Class"
   ]
  },
  {
   "cell_type": "code",
   "execution_count": null,
   "metadata": {},
   "outputs": [],
   "source": []
  },
  {
   "cell_type": "markdown",
   "metadata": {},
   "source": [
    "##### The \\__init\\__() Method for a Child Class - super()"
   ]
  },
  {
   "cell_type": "code",
   "execution_count": null,
   "metadata": {
    "scrolled": true
   },
   "outputs": [],
   "source": []
  },
  {
   "cell_type": "markdown",
   "metadata": {},
   "source": [
    "##### Defining Attributes and Methods for the Child Class"
   ]
  },
  {
   "cell_type": "code",
   "execution_count": null,
   "metadata": {},
   "outputs": [],
   "source": [
    "# See Above"
   ]
  },
  {
   "cell_type": "markdown",
   "metadata": {},
   "source": [
    "##### Method Overriding"
   ]
  },
  {
   "cell_type": "code",
   "execution_count": null,
   "metadata": {},
   "outputs": [],
   "source": [
    "# See Above"
   ]
  },
  {
   "cell_type": "markdown",
   "metadata": {},
   "source": [
    "## Classes as Attributes <br>\n",
    "<p>Classes can also be used as attributes within another class. This is useful in situations where you need to keep variables locally stored, instead of globally stored.</p>"
   ]
  },
  {
   "cell_type": "code",
   "execution_count": null,
   "metadata": {},
   "outputs": [],
   "source": []
  },
  {
   "cell_type": "markdown",
   "metadata": {},
   "source": [
    "# Exercises"
   ]
  },
  {
   "cell_type": "markdown",
   "metadata": {},
   "source": [
    "### Exercise 1 - Turn the shopping cart program from yesterday into an object-oriented program\n",
    "\n",
    "The comments in the cell below are there as a guide for thinking about the problem. However, if you feel a different way is best for you and your own thought process, please do what feels best for you by all means."
   ]
  },
  {
   "cell_type": "code",
   "execution_count": null,
   "metadata": {},
   "outputs": [
    {
     "name": "stdout",
     "output_type": "stream",
     "text": [
      "\n",
      "Your total comes to $16.\n",
      "\n",
      "---John's cart---\n",
      "\n",
      "mango x 4\n",
      "\t $16\n",
      "\n",
      "\tTotal\t\t$16\n",
      "Check out with these items? Say 'yes' or 'no'.\n",
      "yes\n",
      "\n",
      "Continue shopping? ('yes' or 'no')\n",
      "yes\n",
      "\n",
      "\n",
      "---John's wallet: $34---Current Total: $0---\n"
     ]
    }
   ],
   "source": [
    "# Create a class called cart that retains items and has methods to add, remove, and show\n",
    "from IPython.display import clear_output\n",
    "\n",
    "class Cart():\n",
    "    \n",
    "    def __init__(self, contents = {}):\n",
    "        self.contents = contents\n",
    "        \n",
    "    def add_item(self, item, quantity):\n",
    "        if item in self.contents.keys():\n",
    "            self.contents[item] = int(quantity) + self.contents[item]\n",
    "                \n",
    "        else:\n",
    "            self.contents[item] = int(quantity)\n",
    "    \n",
    "    def remove_item(self, item, qty):\n",
    "            print(\"\\nBack they go!\")\n",
    "            self.contents[item] = self.contents[item] - int(qty)\n",
    "            \n",
    "            \n",
    "                    \n",
    "\n",
    "        \n",
    "    def view_cart(self):\n",
    "        clear_output()\n",
    "        if not self.contents:\n",
    "            print(\"\\nYour cart is empty!\")\n",
    "        else:\n",
    "            print(\"\\n--My Cart--\")\n",
    "            for item, num in self.contents.items():\n",
    "                print(f\"{item}---{str(num)}\")\n",
    "    \n",
    "\n",
    "wallet = 50\n",
    "cart_total = 0\n",
    "shopping_cart = Cart()\n",
    "store = {\n",
    "    'honeycrisp apple' : {\n",
    "        'price' : 2,\n",
    "        'stock' : 4\n",
    "    },\n",
    "    'mango' : {\n",
    "        'price' : 4,\n",
    "        'stock' : 4\n",
    "    },\n",
    "    'plum' : {\n",
    "        'price' : 3,\n",
    "        'stock' : 5\n",
    "    },\n",
    "    'watermelon' : {\n",
    "        'price' : 6,\n",
    "        'stock' : 3\n",
    "    },\n",
    "    'lemon' : {\n",
    "        'price' : 1,\n",
    "        'stock' : 8\n",
    "    },\n",
    "    'pear' : {\n",
    "        'price' : 2,\n",
    "        'stock' : 5\n",
    "    }\n",
    "}\n",
    "\n",
    "\n",
    "\n",
    "actions = ['browse', 'cart', 'replace', 'checkout', 'quit'] + list(store.keys())\n",
    "name = input('\\nWelcome to my fruit stand! What\\'s your name?\\n')\n",
    "\n",
    "(f'\\nNice to meet you, {name.title()}! Looks like you have ${str(wallet)} to spend today.')\n",
    "\n",
    "while True:\n",
    "    print(f'\\n\\n---{name.title()}\\'s wallet: ${str(wallet)}---Current Total: ${cart_total}---')\n",
    "    response = input(\"How can I help you? \\nTo see our stock and prices, say 'browse'.\\nTo see what's in your cart so far, say 'cart'\\nTo add an item to your cart, say the name of the item!\\nYou can also say 'replace' to put something back, 'checkout' if you're finished, or 'quit' to forget the whole thing.\\n\")\n",
    "    \n",
    "    while response.lower() not in actions:\n",
    "        response = input(\"I'm afraid we don't carry those. Can I help you with something else?\\n\")\n",
    "        \n",
    "    if response.lower() == 'quit':\n",
    "        print(f'Thanks for stopping by, {name.title()}!')\n",
    "        break\n",
    "                 \n",
    "    if response.lower() == 'browse':\n",
    "        clear_output()\n",
    "        for fruit in store.keys():\n",
    "            if store[fruit]['stock'] > 0:\n",
    "                print(f\"\\n{fruit.title()}-- ${store[fruit]['price']}\\n\\t{store[fruit]['stock']} left in stock\")\n",
    "            else:\n",
    "                print(f\"\\n{fruit.title()}-- ${store[fruit]['price']}\\n\\tOut of stock!\")\n",
    "                      \n",
    "    if response.lower() in store.keys():\n",
    "        clear_output()\n",
    "        if store[response]['stock'] == 0:\n",
    "            print(f\"\\nWe're all out of {response}! Can I get you something else?\\n\")\n",
    "        else:\n",
    "            qty = input(f\"\\n{response.title()}s are ${store[response]['price']}. I have {store[response]['stock']} left to sell. How many can I get you?\\n\")\n",
    "            if int(qty) == 0:\n",
    "                continue\n",
    "            \n",
    "            while int(store[response]['stock']) < int(qty):\n",
    "                    qty = input(f\"\\nOops! I only have {str(store[response]['stock'])} of those left! How many?\\n\")\n",
    "            \n",
    "            shopping_cart.add_item(response, qty)\n",
    "            store[response]['stock'] = store[response]['stock'] - int(qty)\n",
    "            cart_total += store[response]['price'] * int(qty)\n",
    "                 \n",
    "    if response.lower() == 'cart':\n",
    "        shopping_cart.view_cart()\n",
    "    \n",
    "    if response.lower() == 'replace':\n",
    "        if not shopping_cart.contents:\n",
    "            print(\"Your cart is empty!\\n\")\n",
    "        \n",
    "        else:\n",
    "            clear_output()\n",
    "            print(shopping_cart.contents)\n",
    "            replaced_item = input(f\"\\nWhat are you putting back?\\n\")\n",
    "        \n",
    "            if replaced_item not in store.keys():\n",
    "                print(f\"\\nI don't even carry {replaced_item}s, so you didn't get that here!\")\n",
    "            elif not shopping_cart.contents[replaced_item]:\n",
    "                print(f\"\\nLooks like you don't have any {replaced_item}s in your cart yet!\")\n",
    "            else:\n",
    "                num_returned = input(f\"You have {str(shopping_cart.contents[replaced_item])} of those in your cart. How many are you putting back?\\n\")\n",
    "            \n",
    "            while int(num_returned) > shopping_cart.contents[replaced_item]:\n",
    "                num_returned = input(f\"\\nYou only have {shopping_cart.contents[replaced_item]}. How many will you put back?\\n\")\n",
    "            shopping_cart.remove_item(replaced_item, num_returned)\n",
    "            store[replaced_item]['stock'] = store[replaced_item]['stock'] + int(num_returned)\n",
    "            cart_total -= store[replaced_item]['price'] * int(num_returned)\n",
    "        \n",
    "    if response.lower() == 'checkout':\n",
    "        clear_output()\n",
    "        if not shopping_cart:\n",
    "            print(\"\\nYour cart is empty! Buy somethin', will ya?!\\n\")\n",
    "            \n",
    "        print(f\"\\nYour total comes to ${cart_total}.\")\n",
    "        \n",
    "        if cart_total > wallet:\n",
    "            print(f\"\\nLooks like you're ${cart_total - wallet} short! Try typing 'replace' to put something back.\")\n",
    "            continue\n",
    "        \n",
    "        else:\n",
    "            print(f\"\\n---{name.title()}'s cart---\")\n",
    "            for purchase, num in shopping_cart.contents.items():\n",
    "                print(f\"\\n{purchase} x {str(num)}\\n\\t ${str(store[purchase]['price'] * num)}\")\n",
    "            print(f\"\\n\\tTotal\\t\\t${str(cart_total)}\")\n",
    "            confirm = input(\"Check out with these items? Say 'yes' or 'no'.\\n\")\n",
    "            if confirm == 'no':\n",
    "                continue\n",
    "            else:\n",
    "                wallet -= cart_total\n",
    "                cart_total -= cart_total\n",
    "                shopping_cart.contents = {}\n",
    "        keep_shopping = input(\"\\nContinue shopping? ('yes' or 'no')\\n\")\n",
    "        if keep_shopping == 'yes':\n",
    "            continue\n",
    "        else:\n",
    "            print(f\"Thanks for shopping with us today, {name.title()}! Come back soon!\")\n",
    "            break"
   ]
  },
  {
   "cell_type": "markdown",
   "metadata": {},
   "source": [
    "### Exercise 2 - Write a Python class which has two methods get_String and print_String. get_String accept a string from the user and print_String print the string in upper case"
   ]
  },
  {
   "cell_type": "code",
   "execution_count": 13,
   "metadata": {},
   "outputs": [
    {
     "ename": "KeyboardInterrupt",
     "evalue": "Interrupted by user",
     "output_type": "error",
     "traceback": [
      "\u001b[1;31m---------------------------------------------------------------------------\u001b[0m",
      "\u001b[1;31mKeyboardInterrupt\u001b[0m                         Traceback (most recent call last)",
      "\u001b[1;32m~\\AppData\\Local\\Temp\\ipykernel_18896\\4018398390.py\u001b[0m in \u001b[0;36m<module>\u001b[1;34m\u001b[0m\n\u001b[0;32m     13\u001b[0m \u001b[1;33m\u001b[0m\u001b[0m\n\u001b[0;32m     14\u001b[0m \u001b[0mmy_megaphone\u001b[0m \u001b[1;33m=\u001b[0m \u001b[0mMegaphone\u001b[0m\u001b[1;33m(\u001b[0m\u001b[1;34m'yellow'\u001b[0m\u001b[1;33m)\u001b[0m\u001b[1;33m\u001b[0m\u001b[1;33m\u001b[0m\u001b[0m\n\u001b[1;32m---> 15\u001b[1;33m \u001b[0mmy_megaphone\u001b[0m\u001b[1;33m.\u001b[0m\u001b[0mget_String\u001b[0m\u001b[1;33m(\u001b[0m\u001b[1;33m)\u001b[0m\u001b[1;33m\u001b[0m\u001b[1;33m\u001b[0m\u001b[0m\n\u001b[0m\u001b[0;32m     16\u001b[0m \u001b[0mmy_megaphone\u001b[0m\u001b[1;33m.\u001b[0m\u001b[0mprint_String\u001b[0m\u001b[1;33m(\u001b[0m\u001b[1;33m)\u001b[0m\u001b[1;33m\u001b[0m\u001b[1;33m\u001b[0m\u001b[0m\n\u001b[0;32m     17\u001b[0m \u001b[1;33m\u001b[0m\u001b[0m\n",
      "\u001b[1;32m~\\AppData\\Local\\Temp\\ipykernel_18896\\4018398390.py\u001b[0m in \u001b[0;36mget_String\u001b[1;34m(self)\u001b[0m\n\u001b[0;32m      5\u001b[0m \u001b[1;33m\u001b[0m\u001b[0m\n\u001b[0;32m      6\u001b[0m     \u001b[1;32mdef\u001b[0m \u001b[0mget_String\u001b[0m\u001b[1;33m(\u001b[0m\u001b[0mself\u001b[0m\u001b[1;33m)\u001b[0m\u001b[1;33m:\u001b[0m\u001b[1;33m\u001b[0m\u001b[1;33m\u001b[0m\u001b[0m\n\u001b[1;32m----> 7\u001b[1;33m         \u001b[0mself\u001b[0m\u001b[1;33m.\u001b[0m\u001b[0mstored_message\u001b[0m \u001b[1;33m=\u001b[0m \u001b[0minput\u001b[0m\u001b[1;33m(\u001b[0m\u001b[1;34m\"Enter a message and I'll shout it for you:\\n\"\u001b[0m\u001b[1;33m)\u001b[0m\u001b[1;33m\u001b[0m\u001b[1;33m\u001b[0m\u001b[0m\n\u001b[0m\u001b[0;32m      8\u001b[0m \u001b[1;33m\u001b[0m\u001b[0m\n\u001b[0;32m      9\u001b[0m     \u001b[1;32mdef\u001b[0m \u001b[0mprint_String\u001b[0m\u001b[1;33m(\u001b[0m\u001b[0mself\u001b[0m\u001b[1;33m)\u001b[0m\u001b[1;33m:\u001b[0m\u001b[1;33m\u001b[0m\u001b[1;33m\u001b[0m\u001b[0m\n",
      "\u001b[1;32m~\\anaconda3\\lib\\site-packages\\ipykernel\\kernelbase.py\u001b[0m in \u001b[0;36mraw_input\u001b[1;34m(self, prompt)\u001b[0m\n\u001b[0;32m   1175\u001b[0m                 \u001b[1;34m\"raw_input was called, but this frontend does not support input requests.\"\u001b[0m\u001b[1;33m\u001b[0m\u001b[1;33m\u001b[0m\u001b[0m\n\u001b[0;32m   1176\u001b[0m             )\n\u001b[1;32m-> 1177\u001b[1;33m         return self._input_request(\n\u001b[0m\u001b[0;32m   1178\u001b[0m             \u001b[0mstr\u001b[0m\u001b[1;33m(\u001b[0m\u001b[0mprompt\u001b[0m\u001b[1;33m)\u001b[0m\u001b[1;33m,\u001b[0m\u001b[1;33m\u001b[0m\u001b[1;33m\u001b[0m\u001b[0m\n\u001b[0;32m   1179\u001b[0m             \u001b[0mself\u001b[0m\u001b[1;33m.\u001b[0m\u001b[0m_parent_ident\u001b[0m\u001b[1;33m[\u001b[0m\u001b[1;34m\"shell\"\u001b[0m\u001b[1;33m]\u001b[0m\u001b[1;33m,\u001b[0m\u001b[1;33m\u001b[0m\u001b[1;33m\u001b[0m\u001b[0m\n",
      "\u001b[1;32m~\\anaconda3\\lib\\site-packages\\ipykernel\\kernelbase.py\u001b[0m in \u001b[0;36m_input_request\u001b[1;34m(self, prompt, ident, parent, password)\u001b[0m\n\u001b[0;32m   1217\u001b[0m             \u001b[1;32mexcept\u001b[0m \u001b[0mKeyboardInterrupt\u001b[0m\u001b[1;33m:\u001b[0m\u001b[1;33m\u001b[0m\u001b[1;33m\u001b[0m\u001b[0m\n\u001b[0;32m   1218\u001b[0m                 \u001b[1;31m# re-raise KeyboardInterrupt, to truncate traceback\u001b[0m\u001b[1;33m\u001b[0m\u001b[1;33m\u001b[0m\u001b[0m\n\u001b[1;32m-> 1219\u001b[1;33m                 \u001b[1;32mraise\u001b[0m \u001b[0mKeyboardInterrupt\u001b[0m\u001b[1;33m(\u001b[0m\u001b[1;34m\"Interrupted by user\"\u001b[0m\u001b[1;33m)\u001b[0m \u001b[1;32mfrom\u001b[0m \u001b[1;32mNone\u001b[0m\u001b[1;33m\u001b[0m\u001b[1;33m\u001b[0m\u001b[0m\n\u001b[0m\u001b[0;32m   1220\u001b[0m             \u001b[1;32mexcept\u001b[0m \u001b[0mException\u001b[0m\u001b[1;33m:\u001b[0m\u001b[1;33m\u001b[0m\u001b[1;33m\u001b[0m\u001b[0m\n\u001b[0;32m   1221\u001b[0m                 \u001b[0mself\u001b[0m\u001b[1;33m.\u001b[0m\u001b[0mlog\u001b[0m\u001b[1;33m.\u001b[0m\u001b[0mwarning\u001b[0m\u001b[1;33m(\u001b[0m\u001b[1;34m\"Invalid Message:\"\u001b[0m\u001b[1;33m,\u001b[0m \u001b[0mexc_info\u001b[0m\u001b[1;33m=\u001b[0m\u001b[1;32mTrue\u001b[0m\u001b[1;33m)\u001b[0m\u001b[1;33m\u001b[0m\u001b[1;33m\u001b[0m\u001b[0m\n",
      "\u001b[1;31mKeyboardInterrupt\u001b[0m: Interrupted by user"
     ]
    }
   ],
   "source": [
    "from IPython.display import clear_output\n",
    "class Megaphone:\n",
    "    def __init__(self, color, stored_message = ''):\n",
    "        self.color = color\n",
    "        \n",
    "    def get_String(self):\n",
    "        self.stored_message = input(\"Enter a message and I'll shout it for you:\\n\")\n",
    "    \n",
    "    def print_String(self):\n",
    "        clear_output()\n",
    "        message = self.stored_message\n",
    "        print(message.upper())\n",
    "\n",
    "my_megaphone = Megaphone('yellow')\n",
    "my_megaphone.get_String()\n",
    "my_megaphone.print_String()\n",
    "\n"
   ]
  },
  {
   "cell_type": "code",
   "execution_count": null,
   "metadata": {},
   "outputs": [],
   "source": []
  },
  {
   "cell_type": "code",
   "execution_count": null,
   "metadata": {},
   "outputs": [],
   "source": []
  }
 ],
 "metadata": {
  "kernelspec": {
   "display_name": "Python 3 (ipykernel)",
   "language": "python",
   "name": "python3"
  },
  "language_info": {
   "codemirror_mode": {
    "name": "ipython",
    "version": 3
   },
   "file_extension": ".py",
   "mimetype": "text/x-python",
   "name": "python",
   "nbconvert_exporter": "python",
   "pygments_lexer": "ipython3",
   "version": "3.9.13"
  }
 },
 "nbformat": 4,
 "nbformat_minor": 2
}
